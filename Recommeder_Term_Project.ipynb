{
  "nbformat": 4,
  "nbformat_minor": 0,
  "metadata": {
    "colab": {
      "provenance": [],
      "authorship_tag": "ABX9TyP8B1BIAeo8H3XMhQFEleTk",
      "include_colab_link": true
    },
    "kernelspec": {
      "name": "python3",
      "display_name": "Python 3"
    },
    "language_info": {
      "name": "python"
    }
  },
  "cells": [
    {
      "cell_type": "markdown",
      "metadata": {
        "id": "view-in-github",
        "colab_type": "text"
      },
      "source": [
        "<a href=\"https://colab.research.google.com/github/Amik-Sen-Fun/FastOnline-SVD-Python-Code/blob/main/Recommeder_Term_Project.ipynb\" target=\"_parent\"><img src=\"https://colab.research.google.com/assets/colab-badge.svg\" alt=\"Open In Colab\"/></a>"
      ]
    },
    {
      "cell_type": "code",
      "execution_count": 2,
      "metadata": {
        "id": "s5J6Q-GJAsw2"
      },
      "outputs": [],
      "source": [
        "import numpy as np"
      ]
    },
    {
      "cell_type": "markdown",
      "source": [
        "## Helper function `increment_svd` for future use in the driver code"
      ],
      "metadata": {
        "id": "fbGAZmeksvwA"
      }
    },
    {
      "cell_type": "code",
      "source": [
        "def increment_svd(U,S,V,A,B):\n",
        "  d_u = np.shape(U)\n",
        "  d_a = np.shape(A)\n",
        "  rankU = d_u[1]\n",
        "  QP, RP = np.linalg.qr(np.concatenate((U0, A), axis = 1), mode='complete')\n",
        "  w = rankU+1\n",
        "  d_qp = np.shape(QP)\n",
        "  d_rp = np.shape(RP)\n",
        "  \n",
        "  if d_qp[1]== rankU:\n",
        "    P = 0\n",
        "    Ra = 0\n",
        "    dim_Ra = 0\n",
        "  else:\n",
        "    P = QP[:,w-1:d_qp[1]]\n",
        "    Ra = RP[w-1:d_rp[0], w-1:d_rp[1]]\n",
        "    dim_Ra = d_rp[0] - rankU\n",
        "  \n",
        "  v = rankU+d_a[1]\n",
        "  M = RP[0:rankU, w-1:v]\n",
        "  QQ, RQ = np.linalg.qr(np.concatenate((V, B), axis = 1), mode='complete')\n",
        "  d_qq = np.shape(QQ)\n",
        "  d_rq = np.shape(RQ)\n",
        "\n",
        "  if d_qq[1]== rankU:\n",
        "    Q = 0\n",
        "    Rb = 0\n",
        "    dim_Rb = 0\n",
        "  else:\n",
        "    Q = QQ[:,w-1:d_qq[1]]\n",
        "    Rb = RQ[w-1:d_rq[0], w-1:d_rq[1]]\n",
        "    dim_Rb = d_rq[0] - rankU\n",
        "\n",
        "  N = np.matmul(np.transpose(V),B)\n",
        "  temp0 = np.concatenate((M, Ra), axis = 0)\n",
        "\n",
        "  if Rb == 0:\n",
        "    temp1 = N\n",
        "  else: \n",
        "    temp1 = np.concatenate((N, Rb), axis = 0)\n",
        "\n",
        "  S_augmented = np.matmul(temp0, np.transpose(temp1))\n",
        "  temp2 = S\n",
        "  temp3 = np.random.randint(1, size=(dim_Ra, rankU))\n",
        "  \n",
        "  S_new = np.concatenate((temp2, temp3), axis = 0) + S_augmented\n",
        "\n",
        "  updated_svd_u, updated_svd_s, updated_svd_v = np.linalg.svd(S_new, full_matrices=False)\n",
        "\n",
        "  U_new = np.matmul(np.concatenate((U,P), axis = 1),updated_svd_u)\n",
        "  S_new = updated_svd_s\n",
        "\n",
        "  if Q ==0:\n",
        "    V_new = np.matmul(V,updated_svd_v)\n",
        "  else:\n",
        "    V_new = np.matmul(np.concatenate((V,Q), axis = 1),updated_svd_v)\n",
        "\n",
        "  return U_new, V_new, np.diag(S_new)"
      ],
      "metadata": {
        "id": "2mmtX5pbstY3"
      },
      "execution_count": 97,
      "outputs": []
    },
    {
      "cell_type": "markdown",
      "source": [
        "## The finally implemented example with the help of the `increment_svd` function"
      ],
      "metadata": {
        "id": "KovmdfdOsJRb"
      }
    },
    {
      "cell_type": "code",
      "source": [
        "# Keep m > n\n",
        "m = 4 # number of users\n",
        "n = 2 # number of products\n",
        "# Generate the X random matrix\n",
        "X = np.random.randint(6, size=(m, n))\n",
        "X"
      ],
      "metadata": {
        "colab": {
          "base_uri": "https://localhost:8080/"
        },
        "id": "Wc1MEZp_BD7d",
        "outputId": "c2d73479-bc18-43e0-d790-0b0f13d57c52"
      },
      "execution_count": 98,
      "outputs": [
        {
          "output_type": "execute_result",
          "data": {
            "text/plain": [
              "array([[5, 5],\n",
              "       [3, 2],\n",
              "       [5, 2],\n",
              "       [2, 3]])"
            ]
          },
          "metadata": {},
          "execution_count": 98
        }
      ]
    },
    {
      "cell_type": "code",
      "source": [
        "# Get the SVD for the current matrix\n",
        "u, s, v = np.linalg.svd(X, full_matrices=False)\n",
        "# Transforming s into a diagonal matrix for further calculation\n",
        "s = np.diag(s)\n",
        "print(u)\n",
        "print(v)\n",
        "print(s)"
      ],
      "metadata": {
        "colab": {
          "base_uri": "https://localhost:8080/"
        },
        "id": "wHQ51tlOEG--",
        "outputId": "1734a240-c900-457a-d44a-36137d86e6e2"
      },
      "execution_count": 99,
      "outputs": [
        {
          "output_type": "stream",
          "name": "stdout",
          "text": [
            "[[-0.70053799  0.37220578]\n",
            " [-0.35799888 -0.1512169 ]\n",
            " [-0.51356624 -0.75141533]\n",
            " [-0.34253911  0.52342268]]\n",
            "[[-0.78039401 -0.62528808]\n",
            " [-0.62528808  0.78039401]]\n",
            "[[10.03287557  0.        ]\n",
            " [ 0.          2.08360453]]\n"
          ]
        }
      ]
    },
    {
      "cell_type": "code",
      "source": [
        "# Suppose we get a new streaming data \n",
        "w = m+1\n",
        "B = np.random.randint(6, size=(n, 1))\n",
        "A = np.random.randint(1, size=(w, 1))\n",
        "A[w-1][0] = 1"
      ],
      "metadata": {
        "id": "2ruC7g5Qe3yS"
      },
      "execution_count": 100,
      "outputs": []
    },
    {
      "cell_type": "code",
      "source": [
        "temp = np.random.randint(1, size=(1, n))\n",
        "\n",
        "U0 = np.concatenate((u, temp), axis = 0)\n",
        "X0 = np.concatenate((X, temp), axis = 0)\n",
        "\n",
        "# Function to perform the Rank-1 update\n",
        "updated_u, updated_v, updated_s = increment_svd(U0,s,v,A,B)"
      ],
      "metadata": {
        "id": "q0ZCREZRhGXT"
      },
      "execution_count": 101,
      "outputs": []
    },
    {
      "cell_type": "code",
      "source": [
        "# Checing the final error with fast SVD\n",
        "error_part1 = np.add(X0,np.matmul(A,np.transpose(B)))\n",
        "error_part2 = np.matmul(np.matmul(updated_u,updated_s),np.transpose(updated_v))\n",
        "error = np.subtract(error_part1,error_part2)\n",
        "error_value = np.linalg.norm(error,2)\n",
        "print(f\"The value of error is {error_value}\")"
      ],
      "metadata": {
        "colab": {
          "base_uri": "https://localhost:8080/"
        },
        "id": "jmzhL5ngqAtk",
        "outputId": "160eb7d2-a00a-4182-db4e-3b902f78bea8"
      },
      "execution_count": 103,
      "outputs": [
        {
          "output_type": "stream",
          "name": "stdout",
          "text": [
            "The value of error is 0.6286379941349529\n"
          ]
        }
      ]
    }
  ]
}